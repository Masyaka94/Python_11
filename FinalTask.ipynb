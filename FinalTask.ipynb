{
  "nbformat": 4,
  "nbformat_minor": 0,
  "metadata": {
    "colab": {
      "provenance": [],
      "authorship_tag": "ABX9TyOLZmkPHFp7QxzzL9jStOmC",
      "include_colab_link": true
    },
    "kernelspec": {
      "name": "python3",
      "display_name": "Python 3"
    },
    "language_info": {
      "name": "python"
    }
  },
  "cells": [
    {
      "cell_type": "markdown",
      "metadata": {
        "id": "view-in-github",
        "colab_type": "text"
      },
      "source": [
        "<a href=\"https://colab.research.google.com/github/Masyaka94/Python_11/blob/main/FinalTask.ipynb\" target=\"_parent\"><img src=\"https://colab.research.google.com/assets/colab-badge.svg\" alt=\"Open In Colab\"/></a>"
      ]
    },
    {
      "cell_type": "markdown",
      "source": [
        "f(x) = -12x^4*sin(cos(x)) - 18x^3+5x^2 + 10x - 30\n",
        "\n",
        "Определить корни\n",
        "\n",
        "Найти интервалы, на которых функция возрастает\n",
        "\n",
        "Найти интервалы, на которых функция убывает\n",
        "\n",
        "Построить график\n",
        "\n",
        "Вычислить вершину\n",
        "\n",
        "Определить промежутки, на котором f > 0\n",
        "\n",
        "Определить промежутки, на котором f < 0"
      ],
      "metadata": {
        "id": "Gi72FsUc_hof"
      }
    },
    {
      "cell_type": "code",
      "execution_count": 3,
      "metadata": {
        "id": "-Y3VjROi_g2j"
      },
      "outputs": [],
      "source": [
        "import numpy as np\n",
        "import matplotlib.pyplot as plt"
      ]
    },
    {
      "cell_type": "code",
      "source": [
        "a, b, c, d, e = -12, -18, 5, 10, -30\n",
        "limit = 10\n",
        "step = 0.01\n",
        "line_style = '-'\n",
        "direct_up = True\n",
        "color = 'b'"
      ],
      "metadata": {
        "id": "luGoEjWp_qtN"
      },
      "execution_count": 4,
      "outputs": []
    },
    {
      "cell_type": "code",
      "source": [
        "def switch_line():\n",
        "  global line_style\n",
        "  if line_style == '-':\n",
        "    line_style = '--'\n",
        "  else:\n",
        "    line_style = '-'\n",
        "  return line_style"
      ],
      "metadata": {
        "id": "UK0cA3-X_uD3"
      },
      "execution_count": 5,
      "outputs": []
    },
    {
      "cell_type": "code",
      "source": [
        "def switch_color():\n",
        "  global color\n",
        "  if color == 'b':\n",
        "      color = 'r'\n",
        "  else:\n",
        "    color = 'b'\n",
        "  return color"
      ],
      "metadata": {
        "id": "D0RcybyL_wbJ"
      },
      "execution_count": 6,
      "outputs": []
    },
    {
      "cell_type": "code",
      "source": [
        "def func(x):\n",
        "  f = a * x ** 4 * np.sin(np.cos(x)) + b * x ** 3 + c * x **2 + d * x + e\n",
        "  return f"
      ],
      "metadata": {
        "id": "9esj0arX_0qS"
      },
      "execution_count": 7,
      "outputs": []
    },
    {
      "cell_type": "code",
      "source": [
        "x = np.arange(-limit, limit, step)"
      ],
      "metadata": {
        "id": "eiL02PpE_0pI"
      },
      "execution_count": 8,
      "outputs": []
    },
    {
      "cell_type": "code",
      "source": [
        "x_change = [(-limit, 'limit')]\n",
        "for i in range(len(x)-1):\n",
        "  if func(x[i]) > 0 and func(x[i+1]) < 0 or func(x[i]) < 0 and func(x[i+1]) > 0:\n",
        "    x_acr = np.arange(x[i], x[i+1], 0.000001)\n",
        "    for j in range(len(x_acr)-1):\n",
        "      if func(x_acr[j]) > 0 and func(x_acr[j+1]) < 0 or func(x_acr[j]) < 0 and func(x_acr[j+1]) > 0:\n",
        "        x_change.append((x_acr[j], 'zero'))\n",
        "  if direct_up:\n",
        "    if func(x[i]) > func(x[i+1]):\n",
        "      direct_up = False\n",
        "      x_change.append((x[i], 'dir'))\n",
        "  else:\n",
        "      if func(x[i]) < func(x[i+1]):\n",
        "        direct_up = True\n",
        "        x_change.append((x[i], 'dir'))"
      ],
      "metadata": {
        "id": "us0u1N_d_6fR"
      },
      "execution_count": 9,
      "outputs": []
    },
    {
      "cell_type": "code",
      "source": [
        "x_change.append((limit, 'limit'))\n",
        "for i in range(len(x_change)-1):\n",
        "  cur_x = np.arange(x_change[i][0], x_change[i+1][0]+step, step)\n",
        "  if x_change[i][1] == 'zero':\n",
        "    plt.plot(x_change[i][0], func(x_change[i][0]), 'go', label = f'корень {round(x_change[i][0], 3)}')\n",
        "    plt.rcParams['lines.linestyle'] = switch_line()\n",
        "    plt.plot(cur_x, func(cur_x), color)\n",
        "  else:  \n",
        "    plt.plot(cur_x, func(cur_x), switch_color())\n",
        "plt.grid()\n",
        "plt.legend()"
      ],
      "metadata": {
        "colab": {
          "base_uri": "https://localhost:8080/",
          "height": 282
        },
        "id": "BxBXYKCh_-lJ",
        "outputId": "e6963948-a877-4941-aec7-34ea053aa393"
      },
      "execution_count": 10,
      "outputs": [
        {
          "output_type": "execute_result",
          "data": {
            "text/plain": [
              "<matplotlib.legend.Legend at 0x7ff2544deee0>"
            ]
          },
          "metadata": {},
          "execution_count": 10
        },
        {
          "output_type": "display_data",
          "data": {
            "text/plain": [
              "<Figure size 432x288 with 1 Axes>"
            ],
            "image/png": "[encoded data removed]"
          },
          "metadata": {
            "needs_background": "light"
          }
        }
      ]
    },
    {
      "cell_type": "code",
      "source": [],
      "metadata": {
        "id": "2nfQN3UXAzA6"
      },
      "execution_count": null,
      "outputs": []
    }
  ]
}